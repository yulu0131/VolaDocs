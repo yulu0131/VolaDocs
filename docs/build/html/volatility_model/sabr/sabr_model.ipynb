{
 "cells": [
  {
   "cell_type": "markdown",
   "metadata": {},
   "source": [
    "# Commodity Option Volatility Surface using SABR\n",
    "## 2-D Input Data\n",
    "The l2309 option data, recorded on the 26th July, 2023, is utilized for data inputs. The corresponding close price for l2309 future is 8179.0. The implied volatility of this dataset was computed using the Black-Scholes model, incorporating a calendar-day basis for calculation.\n",
    "\n",
    "The graphical representation of the input-implied volatility is delineated in the subsequent illustration:"
   ]
  },
  {
   "cell_type": "code",
   "execution_count": 1,
   "metadata": {
    "ExecuteTime": {
     "end_time": "2023-08-28T06:48:17.257715467Z",
     "start_time": "2023-08-28T06:48:17.167361319Z"
    }
   },
   "outputs": [
    {
     "data": {
      "text/html": [
       "<div>\n",
       "<style scoped>\n",
       "    .dataframe tbody tr th:only-of-type {\n",
       "        vertical-align: middle;\n",
       "    }\n",
       "\n",
       "    .dataframe tbody tr th {\n",
       "        vertical-align: top;\n",
       "    }\n",
       "\n",
       "    .dataframe thead th {\n",
       "        text-align: right;\n",
       "    }\n",
       "</style>\n",
       "<table border=\"1\" class=\"dataframe\">\n",
       "  <thead>\n",
       "    <tr style=\"text-align: right;\">\n",
       "      <th></th>\n",
       "      <th>strikes</th>\n",
       "      <th>ivs</th>\n",
       "    </tr>\n",
       "  </thead>\n",
       "  <tbody>\n",
       "    <tr>\n",
       "      <th>0</th>\n",
       "      <td>7100</td>\n",
       "      <td>0.269966</td>\n",
       "    </tr>\n",
       "    <tr>\n",
       "      <th>1</th>\n",
       "      <td>7200</td>\n",
       "      <td>0.246217</td>\n",
       "    </tr>\n",
       "    <tr>\n",
       "      <th>2</th>\n",
       "      <td>7300</td>\n",
       "      <td>0.222838</td>\n",
       "    </tr>\n",
       "    <tr>\n",
       "      <th>3</th>\n",
       "      <td>7400</td>\n",
       "      <td>0.202008</td>\n",
       "    </tr>\n",
       "    <tr>\n",
       "      <th>4</th>\n",
       "      <td>7500</td>\n",
       "      <td>0.184172</td>\n",
       "    </tr>\n",
       "    <tr>\n",
       "      <th>5</th>\n",
       "      <td>7600</td>\n",
       "      <td>0.169899</td>\n",
       "    </tr>\n",
       "    <tr>\n",
       "      <th>6</th>\n",
       "      <td>7700</td>\n",
       "      <td>0.158302</td>\n",
       "    </tr>\n",
       "    <tr>\n",
       "      <th>7</th>\n",
       "      <td>7800</td>\n",
       "      <td>0.150774</td>\n",
       "    </tr>\n",
       "    <tr>\n",
       "      <th>8</th>\n",
       "      <td>7900</td>\n",
       "      <td>0.145299</td>\n",
       "    </tr>\n",
       "    <tr>\n",
       "      <th>9</th>\n",
       "      <td>8000</td>\n",
       "      <td>0.141661</td>\n",
       "    </tr>\n",
       "    <tr>\n",
       "      <th>10</th>\n",
       "      <td>8100</td>\n",
       "      <td>0.139141</td>\n",
       "    </tr>\n",
       "    <tr>\n",
       "      <th>11</th>\n",
       "      <td>8200</td>\n",
       "      <td>0.137403</td>\n",
       "    </tr>\n",
       "    <tr>\n",
       "      <th>12</th>\n",
       "      <td>8300</td>\n",
       "      <td>0.135947</td>\n",
       "    </tr>\n",
       "    <tr>\n",
       "      <th>13</th>\n",
       "      <td>8400</td>\n",
       "      <td>0.134929</td>\n",
       "    </tr>\n",
       "    <tr>\n",
       "      <th>14</th>\n",
       "      <td>8500</td>\n",
       "      <td>0.133980</td>\n",
       "    </tr>\n",
       "    <tr>\n",
       "      <th>15</th>\n",
       "      <td>8600</td>\n",
       "      <td>0.133102</td>\n",
       "    </tr>\n",
       "    <tr>\n",
       "      <th>16</th>\n",
       "      <td>8700</td>\n",
       "      <td>0.132350</td>\n",
       "    </tr>\n",
       "  </tbody>\n",
       "</table>\n",
       "</div>"
      ],
      "text/plain": [
       "    strikes       ivs\n",
       "0      7100  0.269966\n",
       "1      7200  0.246217\n",
       "2      7300  0.222838\n",
       "3      7400  0.202008\n",
       "4      7500  0.184172\n",
       "5      7600  0.169899\n",
       "6      7700  0.158302\n",
       "7      7800  0.150774\n",
       "8      7900  0.145299\n",
       "9      8000  0.141661\n",
       "10     8100  0.139141\n",
       "11     8200  0.137403\n",
       "12     8300  0.135947\n",
       "13     8400  0.134929\n",
       "14     8500  0.133980\n",
       "15     8600  0.133102\n",
       "16     8700  0.132350"
      ]
     },
     "execution_count": 1,
     "metadata": {},
     "output_type": "execute_result"
    }
   ],
   "source": [
    "import pandas as pd\n",
    "pd.read_csv(\"../sample_iv_data.csv\")"
   ]
  },
  {
   "cell_type": "markdown",
   "metadata": {},
   "source": [
    "### Interpolate ATM vol\n",
    "\n",
    "![](../../figures/atm_interp.png)\n",
    "\n",
    "## SABR Model\n",
    "The SABR model both have the black calibration space and the normal calibration space where beta = 0, 1 respectively. When beta = 1/2, we have CIR calibration space. There are two calibration methods included in our implementation.\n",
    "\n",
    "The beta value is fixed for the below method：\n",
    "\n",
    "1.  optimize the sabr function directly with the **non-linear least square** method. To simplify, find the $\\alpha$, $\\beta$, $\\rho$ at one time.\n",
    "\n",
    "2.  The alpha value is implied from the atm volatility (West, 2005a), and the residuals can be formed as an objective function to find the local minimum value.\n",
    "\n",
    "The calibrated parameters should be compared and the corresponding results should be plotted. After the theoretical part is done, finish the implied volatility part using the normal and lognormal SABR model."
   ]
  },
  {
   "cell_type": "markdown",
   "metadata": {},
   "source": [
    "### SABR -- Fit Market\n",
    "![fit](../../figures/sabr_calibration_comp.png)"
   ]
  },
  {
   "cell_type": "markdown",
   "metadata": {},
   "source": [
    "### Bachelier SABR vs Black SABR\n",
    "This section compares the normal SABR stochastic volatility model using alpha fit method. The fitted volatility is volatility from Normal SABR model."
   ]
  },
  {
   "cell_type": "markdown",
   "metadata": {
    "ExecuteTime": {
     "end_time": "2023-08-28T06:46:29.017328423Z",
     "start_time": "2023-08-28T06:46:28.790509485Z"
    },
    "collapsed": false
   },
   "source": [
    "![iv](../../figures/normal_vs_lognormal_sabr.png)"
   ]
  },
  {
   "cell_type": "markdown",
   "metadata": {
    "collapsed": false
   },
   "source": [
    "## 3D surface\n",
    "### Black SABR Volatility Surface"
   ]
  },
  {
   "cell_type": "markdown",
   "metadata": {
    "ExecuteTime": {
     "end_time": "2023-08-28T06:46:34.750606998Z",
     "start_time": "2023-08-28T06:46:33.974029979Z"
    },
    "collapsed": false
   },
   "source": [
    "![3d black](../../figures/black_3d.png)"
   ]
  },
  {
   "cell_type": "markdown",
   "metadata": {
    "collapsed": false
   },
   "source": [
    "### Bachelier SABR Volatility Surface\n"
   ]
  },
  {
   "cell_type": "markdown",
   "metadata": {
    "ExecuteTime": {
     "end_time": "2023-08-28T06:46:39.056631573Z",
     "start_time": "2023-08-28T06:46:34.751790205Z"
    },
    "collapsed": false
   },
   "source": [
    "![bachelier 3d](../../figures/bachelier_3d.png)"
   ]
  }
 ],
 "metadata": {
  "kernelspec": {
   "display_name": "optlib",
   "language": "python",
   "name": "python3"
  },
  "language_info": {
   "codemirror_mode": {
    "name": "ipython",
    "version": 3
   },
   "file_extension": ".py",
   "mimetype": "text/x-python",
   "name": "python",
   "nbconvert_exporter": "python",
   "pygments_lexer": "ipython3",
   "version": "3.10.8"
  }
 },
 "nbformat": 4,
 "nbformat_minor": 2
}
